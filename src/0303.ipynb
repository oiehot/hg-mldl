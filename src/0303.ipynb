{
 "cells": [
  {
   "cell_type": "code",
   "execution_count": 54,
   "metadata": {},
   "outputs": [],
   "source": [
    "\"\"\"\n",
    "특성 공학과 규제\n",
    "\"\"\"\n",
    "\n",
    "import pandas as pd\n",
    "import numpy as np\n",
    "from sklearn.model_selection import train_test_split"
   ]
  },
  {
   "cell_type": "code",
   "execution_count": 55,
   "metadata": {},
   "outputs": [
    {
     "name": "stdout",
     "output_type": "stream",
     "text": [
      "df:     length   height   width\n",
      "0     8.4     2.11    1.41\n",
      "1    13.7     3.53    2.00\n",
      "2    15.0     3.82    2.43\n",
      "3    16.2     4.59    2.63\n",
      "4    17.4     4.59    2.94\n",
      "perch_full:  [[ 8.4   2.11  1.41]\n",
      " [13.7   3.53  2.  ]\n",
      " [15.    3.82  2.43]\n",
      " [16.2   4.59  2.63]\n",
      " [17.4   4.59  2.94]]\n",
      "perch_weight:  [ 5.9 32.  40.  51.5 70. ]\n"
     ]
    }
   ],
   "source": [
    "\"\"\"\n",
    "데이터 준비하기\n",
    "\"\"\"\n",
    "\n",
    "df = pd.read_csv(\"https://bit.ly/perch_csv_data\")\n",
    "perch_full = df.to_numpy()\n",
    "perch_weight = np.array([5.9, 32.0, 40.0, 51.5, 70.0, 100.0, 78.0, 80.0, 85.0, 85.0, 110.0,\n",
    "       115.0, 125.0, 130.0, 120.0, 120.0, 130.0, 135.0, 110.0, 130.0,\n",
    "       150.0, 145.0, 150.0, 170.0, 225.0, 145.0, 188.0, 180.0, 197.0,\n",
    "       218.0, 300.0, 260.0, 265.0, 250.0, 250.0, 300.0, 320.0, 514.0,\n",
    "       556.0, 840.0, 685.0, 700.0, 700.0, 690.0, 900.0, 650.0, 820.0,\n",
    "       850.0, 900.0, 1015.0, 820.0, 1100.0, 1000.0, 1100.0, 1000.0,\n",
    "       1000.0])\n",
    "\\\n",
    "print(\"df: \", df[:5])\n",
    "print(\"perch_full: \", perch_full[:5])\n",
    "print(\"perch_weight: \", perch_weight[:5])"
   ]
  },
  {
   "cell_type": "code",
   "execution_count": 56,
   "metadata": {},
   "outputs": [
    {
     "name": "stdout",
     "output_type": "stream",
     "text": [
      "train_input:  [[19.6   5.14  3.04]\n",
      " [22.    5.88  3.52]\n",
      " [18.7   5.2   3.12]\n",
      " [17.4   4.59  2.94]\n",
      " [36.   10.61  6.74]]\n",
      "train_target:  [ 85. 135.  78.  70. 700.]\n",
      "test_input:  [[ 8.4   2.11  1.41]\n",
      " [18.    5.22  3.32]\n",
      " [27.5   7.28  4.57]\n",
      " [21.3   6.38  3.53]\n",
      " [22.5   5.86  3.62]]\n",
      "test_target:  [  5.9 100.  250.  130.  130. ]\n"
     ]
    }
   ],
   "source": [
    "\"\"\"\n",
    "훈련용과 테스트용 데이터 분리\n",
    "\"\"\"\n",
    "\n",
    "train_input, test_input, train_target, test_target = train_test_split(perch_full, perch_weight, random_state=42)\n",
    "print(\"train_input: \", train_input[:5])\n",
    "print(\"train_target: \", train_target[:5])\n",
    "print(\"test_input: \", test_input[:5])\n",
    "print(\"test_target: \", test_target[:5])"
   ]
  },
  {
   "cell_type": "code",
   "execution_count": 57,
   "metadata": {},
   "outputs": [
    {
     "name": "stdout",
     "output_type": "stream",
     "text": [
      "poly.transform:  [[1. 2. 3. 4. 6. 9.]]\n",
      "poly.transform:  [[2. 3. 4. 6. 9.]]\n"
     ]
    }
   ],
   "source": [
    "\"\"\"\n",
    "다항특성변환기 테스트\n",
    "\"\"\"\n",
    "\n",
    "from sklearn.preprocessing import PolynomialFeatures\n",
    "\n",
    "poly = PolynomialFeatures()\n",
    "poly.fit([[2, 3]])\n",
    "print(\"poly.transform: \", poly.transform([[2, 3]]))\n",
    "\n",
    "poly = PolynomialFeatures(include_bias=False)\n",
    "poly.fit([[2, 3]])\n",
    "print(\"poly.transform: \", poly.transform([[2, 3]]))"
   ]
  },
  {
   "cell_type": "code",
   "execution_count": 58,
   "metadata": {},
   "outputs": [
    {
     "name": "stdout",
     "output_type": "stream",
     "text": [
      "train_input:  [[19.6   5.14  3.04]\n",
      " [22.    5.88  3.52]\n",
      " [18.7   5.2   3.12]\n",
      " [17.4   4.59  2.94]\n",
      " [36.   10.61  6.74]]\n",
      "poly.get_geature_names_out:  ['x0' 'x1' 'x2' 'x0^2' 'x0 x1' 'x0 x2' 'x1^2' 'x1 x2' 'x2^2']\n",
      "train_poly:  [[  19.6       5.14      3.04    384.16    100.744    59.584    26.4196\n",
      "    15.6256    9.2416]\n",
      " [  22.        5.88      3.52    484.      129.36     77.44     34.5744\n",
      "    20.6976   12.3904]\n",
      " [  18.7       5.2       3.12    349.69     97.24     58.344    27.04\n",
      "    16.224     9.7344]\n",
      " [  17.4       4.59      2.94    302.76     79.866    51.156    21.0681\n",
      "    13.4946    8.6436]\n",
      " [  36.       10.61      6.74   1296.      381.96    242.64    112.5721\n",
      "    71.5114   45.4276]]\n",
      "train_target:  [ 85. 135.  78.  70. 700.]\n",
      "train_poly.shape (42, 9)\n"
     ]
    }
   ],
   "source": [
    "\"\"\"\n",
    "테스트 데이터에 다항특성변환기 사용\n",
    "\"\"\"\n",
    "\n",
    "# train_input: [19.6, 5.14, 3.04]\n",
    "# train_poly:  [19.6, 5.14, 3.04, 384.16, 100.744, 59.584, 26.4196, 15.6256, 9.2416]\n",
    "# train_poly:  [x,    y,    z,    x**2,   x*y,     x*z,    y**2,    y*z,     z**2]\n",
    "print(\"train_input: \", train_input[:5])\n",
    "\n",
    "poly = PolynomialFeatures(include_bias=False)\n",
    "poly.fit(train_input)\n",
    "train_poly = poly.transform(train_input)\n",
    "\n",
    "print(\"poly.get_geature_names_out: \", poly.get_feature_names_out())  # get_feature_names_out(): 전처리된 결과의 특성 이름 얻기.\n",
    "print(\"train_poly: \", train_poly[:5])\n",
    "print(\"train_target: \", train_target[:5])\n",
    "print(\"train_poly.shape\", train_poly.shape)"
   ]
  },
  {
   "cell_type": "code",
   "execution_count": 59,
   "metadata": {},
   "outputs": [
    {
     "name": "stdout",
     "output_type": "stream",
     "text": [
      "train score:  0.9903183436982126\n",
      "test score:  0.9714559911594125\n"
     ]
    }
   ],
   "source": [
    "\"\"\"\n",
    "다항특성변환기를 적용한 테스트와 훈련 데이터를 이용, 선형회귀 훈련 후 성적 확인\n",
    "\"\"\"\n",
    "\n",
    "from sklearn.linear_model import LinearRegression\n",
    "\n",
    "poly = PolynomialFeatures(include_bias=False)\n",
    "poly.fit(train_input)\n",
    "train_poly = poly.transform(train_input)\n",
    "test_poly  = poly.transform(test_input)\n",
    "\n",
    "# train_poly: 특성값 (길이, 폭, 너비, x^2, y^2, z^2, xy, xz, yz)\n",
    "# train_target: 결과값 (weight)\n",
    "lr = LinearRegression()\n",
    "lr.fit(train_poly, train_target)\n",
    "print(\"train score: \", lr.score(train_poly, train_target))\n",
    "print(\"test score: \", lr.score(test_poly, test_target))"
   ]
  },
  {
   "cell_type": "code",
   "execution_count": 60,
   "metadata": {},
   "outputs": [
    {
     "name": "stdout",
     "output_type": "stream",
     "text": [
      "train_poly.shape:  (42, 55)\n",
      "train_poly[0]  [1.96000000e+01 5.14000000e+00 3.04000000e+00 3.84160000e+02\n",
      " 1.00744000e+02 5.95840000e+01 2.64196000e+01 1.56256000e+01\n",
      " 9.24160000e+00 7.52953600e+03 1.97458240e+03 1.16784640e+03\n",
      " 5.17824160e+02 3.06261760e+02 1.81135360e+02 1.35796744e+02\n",
      " 8.03155840e+01 4.75018240e+01 2.80944640e+01 1.47578906e+05\n",
      " 3.87018150e+04 2.28897894e+04 1.01493535e+04 6.00273050e+03\n",
      " 3.55025306e+03 2.66161618e+03 1.57418545e+03 9.31035750e+02\n",
      " 5.50651494e+02 6.97995264e+02 4.12822102e+02 2.44159375e+02\n",
      " 1.44405545e+02 8.54071706e+01 2.89254655e+06 7.58555575e+05\n",
      " 4.48639873e+05 1.98927329e+05 1.17653518e+05 6.95849599e+04\n",
      " 5.21676772e+04 3.08540347e+04 1.82483007e+04 1.07927693e+04\n",
      " 1.36807072e+04 8.09131319e+03 4.78552376e+03 2.83034868e+03\n",
      " 1.67398054e+03 3.58769566e+03 2.12190560e+03 1.25497919e+03\n",
      " 7.42244501e+02 4.38992857e+02 2.59637799e+02]\n",
      "train score:  0.9999999999997232\n",
      "test score:  -144.40564483377855\n"
     ]
    }
   ],
   "source": [
    "\"\"\"\n",
    "다항특성을 더 만들어서 훈련 후 성적 확인.\n",
    "\"\"\"\n",
    "\n",
    "poly = PolynomialFeatures(degree=5, include_bias=False)  # degree\n",
    "poly.fit(train_input)\n",
    "train_poly = poly.transform(train_input)\n",
    "test_poly  = poly.transform(test_input)\n",
    "\n",
    "print(\"train_poly.shape: \", train_poly.shape)\n",
    "print(\"train_poly[0] \", train_poly[0])\n",
    "\n",
    "# train_poly: 특성값 (길이, 폭, 너비, x^2, y^2, z^2, xy, xz, yz)\n",
    "# train_target: 결과값 (weight)\n",
    "lr = LinearRegression()\n",
    "lr.fit(train_poly, train_target)\n",
    "print(\"train score: \", lr.score(train_poly, train_target))\n",
    "print(\"test score: \", lr.score(test_poly, test_target))\n",
    "\n",
    "# 과대적합 결과가 나옴. 특성 개수를 늘리면 훈련 세트에 대해서는 성적이 좋으나,\n",
    "# 테스트 세트에서 형편없는 성적이 나옴 (-144.405)"
   ]
  },
  {
   "cell_type": "code",
   "execution_count": 61,
   "metadata": {},
   "outputs": [
    {
     "name": "stdout",
     "output_type": "stream",
     "text": [
      "train_poly[0]:  [1.96000000e+01 5.14000000e+00 3.04000000e+00 3.84160000e+02\n",
      " 1.00744000e+02 5.95840000e+01 2.64196000e+01 1.56256000e+01\n",
      " 9.24160000e+00 7.52953600e+03 1.97458240e+03 1.16784640e+03\n",
      " 5.17824160e+02 3.06261760e+02 1.81135360e+02 1.35796744e+02\n",
      " 8.03155840e+01 4.75018240e+01 2.80944640e+01 1.47578906e+05\n",
      " 3.87018150e+04 2.28897894e+04 1.01493535e+04 6.00273050e+03\n",
      " 3.55025306e+03 2.66161618e+03 1.57418545e+03 9.31035750e+02\n",
      " 5.50651494e+02 6.97995264e+02 4.12822102e+02 2.44159375e+02\n",
      " 1.44405545e+02 8.54071706e+01 2.89254655e+06 7.58555575e+05\n",
      " 4.48639873e+05 1.98927329e+05 1.17653518e+05 6.95849599e+04\n",
      " 5.21676772e+04 3.08540347e+04 1.82483007e+04 1.07927693e+04\n",
      " 1.36807072e+04 8.09131319e+03 4.78552376e+03 2.83034868e+03\n",
      " 1.67398054e+03 3.58769566e+03 2.12190560e+03 1.25497919e+03\n",
      " 7.42244501e+02 4.38992857e+02 2.59637799e+02]\n",
      "train_scaled[0]:  [-1.01339619 -1.01007487 -1.01952321 -0.9549757  -0.9496784  -0.95745849\n",
      " -0.93942079 -0.94342509 -0.94100107 -0.88757122 -0.88399964 -0.89100599\n",
      " -0.87785292 -0.88311456 -0.88430909 -0.8691891  -0.87259422 -0.87147928\n",
      " -0.86603533 -0.82233944 -0.82171953 -0.8280588  -0.81928269 -0.82512549\n",
      " -0.8278857  -0.81486775 -0.82006923 -0.82177279 -0.82010716 -0.80835934\n",
      " -0.81274154 -0.81321125 -0.8098514  -0.80275974 -0.7637909  -0.76597773\n",
      " -0.77150714 -0.76668667 -0.77246614 -0.77577893 -0.76571689 -0.77162398\n",
      " -0.77472752 -0.77517751 -0.76290623 -0.76877311 -0.77148634 -0.77113383\n",
      " -0.767785   -0.75814062 -0.76376113 -0.76586966 -0.76449499 -0.75967179\n",
      " -0.75143746]\n",
      "train score:  1.0\n",
      "test score:  -358.8506854987983\n"
     ]
    }
   ],
   "source": [
    "\"\"\"\n",
    "규제(릿지회귀, 라쏘회귀) 사용하기\n",
    "\"\"\"\n",
    "\n",
    "from sklearn.preprocessing import StandardScaler\n",
    "\n",
    "poly = PolynomialFeatures(degree=5, include_bias=False)\n",
    "poly.fit(train_input)\n",
    "train_poly = poly.transform(train_input)  # train_input > PolynomialFeatures > train_poly\n",
    "\n",
    "# 특성값 스케일을 표준점수로 정규화해서 사용하기 위해 StandardScaler 변환기를 사용한다.\n",
    "ss = StandardScaler()\n",
    "ss.fit(train_poly)\n",
    "train_scaled = ss.transform(train_poly)  # train_poly > StandardScaler > train_scaled\n",
    "test_scaled = ss.transform(test_poly)  # test_poly > StandardScaler > test_scaled\n",
    "\n",
    "print(\"train_poly[0]: \", train_poly[0])\n",
    "print(\"train_scaled[0]: \", train_scaled[0])\n",
    "\n",
    "lr = LinearRegression()\n",
    "lr.fit(train_scaled, train_target)\n",
    "print(\"train score: \", lr.score(train_scaled, train_target))\n",
    "print(\"test score: \", lr.score(test_scaled, test_target))"
   ]
  },
  {
   "cell_type": "code",
   "execution_count": 62,
   "metadata": {},
   "outputs": [
    {
     "name": "stdout",
     "output_type": "stream",
     "text": [
      "ridge_train_score:  0.9896101671037343\n",
      "ridge_test_score:  0.9790693977615387\n"
     ]
    }
   ],
   "source": [
    "\"\"\"\n",
    "릿지 회귀 사용해보기\n",
    "\"\"\"\n",
    "\n",
    "from sklearn.linear_model import Ridge\n",
    "\n",
    "ridge = Ridge()\n",
    "ridge.fit(train_scaled, train_target)\n",
    "print(\"ridge_train_score: \", ridge.score(train_scaled, train_target))\n",
    "print(\"ridge_test_score: \", ridge.score(test_scaled, test_target))"
   ]
  },
  {
   "cell_type": "code",
   "execution_count": 63,
   "metadata": {},
   "outputs": [
    {
     "data": {
      "image/png": "[encoded data removed]",
      "text/plain": [
       "<Figure size 640x480 with 1 Axes>"
      ]
     },
     "metadata": {},
     "output_type": "display_data"
    },
    {
     "name": "stdout",
     "output_type": "stream",
     "text": [
      "ridge_train_scores:  [0.9930455252088248, 0.991780998125052, 0.9903815817570367, 0.9896101671037343, 0.988728468997471, 0.9841843235774494]\n",
      "ridge_test_scores:  [0.9569388961567329, 0.9800187936871725, 0.9827976465386928, 0.9790693977615387, 0.9725329582461569, 0.9627042641050291]\n"
     ]
    }
   ],
   "source": [
    "\"\"\"\n",
    "릿지 회귀 alpha값별 점수 확인해보기\n",
    "\"\"\"\n",
    "\n",
    "import matplotlib.pyplot as plt\n",
    "\n",
    "ridge_train_scores = []\n",
    "ridge_test_scores = []\n",
    "alphas = [0.001, 0.01, 0.1, 1, 10, 100]\n",
    "for alpha in alphas:\n",
    "    ridge = Ridge(alpha=alpha)\n",
    "    ridge.fit(train_scaled, train_target)\n",
    "    ridge_train_scores.append(ridge.score(train_scaled, train_target))\n",
    "    ridge_test_scores.append(ridge.score(test_scaled, test_target))\n",
    "\n",
    "plt.plot(np.log10(alphas), ridge_train_scores)\n",
    "plt.plot(np.log10(alphas), ridge_test_scores)\n",
    "plt.xlabel(\"alpha\")\n",
    "plt.ylabel(\"R^2\")\n",
    "plt.show() # blue: ridge_train_scores, ornage: ridge_test_scores\n",
    "\n",
    "print(\"ridge_train_scores: \", ridge_train_scores)\n",
    "print(\"ridge_test_scores: \", ridge_test_scores)"
   ]
  },
  {
   "cell_type": "code",
   "execution_count": 64,
   "metadata": {},
   "outputs": [
    {
     "name": "stdout",
     "output_type": "stream",
     "text": [
      "train_scaled[0]:  [-1.01339619 -1.01007487 -1.01952321 -0.9549757  -0.9496784  -0.95745849\n",
      " -0.93942079 -0.94342509 -0.94100107 -0.88757122 -0.88399964 -0.89100599\n",
      " -0.87785292 -0.88311456 -0.88430909 -0.8691891  -0.87259422 -0.87147928\n",
      " -0.86603533 -0.82233944 -0.82171953 -0.8280588  -0.81928269 -0.82512549\n",
      " -0.8278857  -0.81486775 -0.82006923 -0.82177279 -0.82010716 -0.80835934\n",
      " -0.81274154 -0.81321125 -0.8098514  -0.80275974 -0.7637909  -0.76597773\n",
      " -0.77150714 -0.76668667 -0.77246614 -0.77577893 -0.76571689 -0.77162398\n",
      " -0.77472752 -0.77517751 -0.76290623 -0.76877311 -0.77148634 -0.77113383\n",
      " -0.767785   -0.75814062 -0.76376113 -0.76586966 -0.76449499 -0.75967179\n",
      " -0.75143746]\n",
      "train_target[0]:  85.0\n",
      "ridge_train_score:  0.9903815817570367\n",
      "ridge_test_score:  0.9827976465386928\n"
     ]
    }
   ],
   "source": [
    "\"\"\"\n",
    "릿지회귀: alpha 테스트로 얻은 최적 alpha(0.1)로 최종 점수 확인\n",
    "\"\"\"\n",
    "\n",
    "print(\"train_scaled[0]: \", train_scaled[0])\n",
    "print(\"train_target[0]: \", train_target[0])\n",
    "ridge = Ridge(alpha=0.1)\n",
    "ridge.fit(train_scaled, train_target)\n",
    "print(\"ridge_train_score: \", ridge.score(train_scaled, train_target)) # 0.9903\n",
    "print(\"ridge_test_score: \", ridge.score(test_scaled, test_target)) # 0.9827"
   ]
  },
  {
   "cell_type": "code",
   "execution_count": 65,
   "metadata": {},
   "outputs": [
    {
     "name": "stdout",
     "output_type": "stream",
     "text": [
      "lasso_train_score:  0.989789897208096\n",
      "lasso_test_score:  0.9800593698421883\n"
     ]
    }
   ],
   "source": [
    "\"\"\"\n",
    "라쏘회귀 사용해보기\n",
    "\"\"\"\n",
    "\n",
    "from sklearn.linear_model import Lasso\n",
    "\n",
    "lasso = Lasso()\n",
    "lasso.fit(train_scaled, train_target)\n",
    "print(\"lasso_train_score: \", lasso.score(train_scaled, train_target))  # 0.9897\n",
    "print(\"lasso_test_score: \", lasso.score(test_scaled, test_target))  # 0.98005"
   ]
  },
  {
   "cell_type": "code",
   "execution_count": 66,
   "metadata": {},
   "outputs": [
    {
     "name": "stderr",
     "output_type": "stream",
     "text": [
      "d:\\hg-mldl\\.venv\\Lib\\site-packages\\sklearn\\linear_model\\_coordinate_descent.py:678: ConvergenceWarning: Objective did not converge. You might want to increase the number of iterations, check the scale of the features or consider increasing regularisation. Duality gap: 1.238e+04, tolerance: 5.183e+02\n",
      "  model = cd_fast.enet_coordinate_descent(\n"
     ]
    },
    {
     "data": {
      "image/png": "[encoded data removed]",
      "text/plain": [
       "<Figure size 640x480 with 1 Axes>"
      ]
     },
     "metadata": {},
     "output_type": "display_data"
    },
    {
     "name": "stdout",
     "output_type": "stream",
     "text": [
      "lasso_train_scores:  [0.9940913138606078, 0.9928491137449734, 0.9902080238600284, 0.9898116789062786, 0.9887624603020236, 0.9078618674946646]\n",
      "lasso_test_scores:  [0.954881601354962, 0.947791689113353, 0.9824382983968606, 0.9801844137326112, 0.9830309645308443, 0.9090772073024512]\n",
      "lasso_train_scores:  0.9888067471131867\n",
      "lasso_test_scores:  0.9824470598706695\n"
     ]
    }
   ],
   "source": [
    "\"\"\"\n",
    "라쏘회귀 최적 alpha 찾기\n",
    "\"\"\"\n",
    "\n",
    "lasso_train_scores = []\n",
    "lasso_test_scores = []\n",
    "alphas = [0.001, 0.01, 0.1, 1, 10, 100]\n",
    "for alpha in alphas:\n",
    "    lasso = Lasso(alpha=alpha, max_iter=200_000)  # max_iter를 높여야 ConvergencWarning 경고가 안뜸. 최적의 계수를 찾기 위한 반복횟수가 더 필요할 때 나옴.\n",
    "    lasso.fit(train_scaled, train_target)\n",
    "    lasso_train_scores.append(lasso.score(train_scaled, train_target))\n",
    "    lasso_test_scores.append(lasso.score(test_scaled, test_target))\n",
    "\n",
    "plt.plot(np.log10(alphas), lasso_train_scores)\n",
    "plt.plot(np.log10(alphas), lasso_test_scores)\n",
    "plt.xlabel(\"alpha\")\n",
    "plt.ylabel(\"R^2\")\n",
    "plt.show()  # blue: lasso_train_scores, orange: lasso_test_scores\n",
    "print(\"lasso_train_scores: \", lasso_train_scores)\n",
    "print(\"lasso_test_scores: \", lasso_test_scores)\n",
    "\n",
    "lasso = Lasso(alpha=10)\n",
    "lasso.fit(train_scaled, train_target)\n",
    "print(\"lasso_train_scores: \", lasso.score(train_scaled, train_target))  # 0.9888\n",
    "print(\"lasso_test_scores: \", lasso.score(test_scaled, test_target))  # 0.9824"
   ]
  },
  {
   "cell_type": "code",
   "execution_count": 67,
   "metadata": {},
   "outputs": [
    {
     "name": "stdout",
     "output_type": "stream",
     "text": [
      "lasso.coef_:  [ 0.          0.          0.         12.14852453 55.44856399 42.23100799\n",
      "  0.          0.         13.70596191  0.         43.2185952   5.7033775\n",
      " 47.46254536  7.42309425 11.85823365  0.          0.         13.53038193\n",
      " 21.22111356  0.          0.          0.          0.          0.\n",
      "  0.         18.66993032  0.          0.          0.         15.81041778\n",
      "  0.          0.          0.          0.          0.          0.\n",
      "  0.          0.          0.          0.          0.          0.\n",
      "  0.          0.         18.14672268  0.          0.          0.\n",
      "  0.         15.51272953  0.          0.          0.          0.\n",
      "  0.        ]\n",
      "count of zero lasso.coef_:  40\n"
     ]
    }
   ],
   "source": [
    "\"\"\"\n",
    "라쏘회귀는 0인 계수를 만들 수 있다.\n",
    "\"\"\"\n",
    "\n",
    "print(\"lasso.coef_: \", lasso.coef_)\n",
    "print(\"count of zero lasso.coef_: \", np.sum(lasso.coef_ == 0))"
   ]
  }
 ],
 "metadata": {
  "kernelspec": {
   "display_name": ".venv",
   "language": "python",
   "name": "python3"
  },
  "language_info": {
   "codemirror_mode": {
    "name": "ipython",
    "version": 3
   },
   "file_extension": ".py",
   "mimetype": "text/x-python",
   "name": "python",
   "nbconvert_exporter": "python",
   "pygments_lexer": "ipython3",
   "version": "3.12.2"
  }
 },
 "nbformat": 4,
 "nbformat_minor": 2
}
